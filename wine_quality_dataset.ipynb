{
  "nbformat": 4,
  "nbformat_minor": 0,
  "metadata": {
    "colab": {
      "provenance": [],
      "toc_visible": true,
      "private_outputs": true,
      "authorship_tag": "ABX9TyOAEDXDZ9pIKJJ1+u72wUPR",
      "include_colab_link": true
    },
    "kernelspec": {
      "name": "python3",
      "display_name": "Python 3"
    },
    "language_info": {
      "name": "python"
    },
    "accelerator": "GPU",
    "gpuClass": "standard"
  },
  "cells": [
    {
      "cell_type": "markdown",
      "metadata": {
        "id": "view-in-github",
        "colab_type": "text"
      },
      "source": [
        "<a href=\"https://colab.research.google.com/github/Abhishekpratapsingh321/Wine_Quality_Dataset/blob/main/wine_quality_dataset.ipynb\" target=\"_parent\"><img src=\"https://colab.research.google.com/assets/colab-badge.svg\" alt=\"Open In Colab\"/></a>"
      ]
    },
    {
      "cell_type": "markdown",
      "source": [
        "abhishek pratap singh"
      ],
      "metadata": {
        "id": "zdli1tLQaINo"
      }
    },
    {
      "cell_type": "code",
      "source": [
        "### importing Pandas and Numpy\n",
        "\n",
        "import pandas as pd\n",
        "import numpy as np\n",
        "\n",
        "### importing Visualisation libraries\n",
        "\n",
        "import seaborn as sns\n",
        "import matplotlib.pyplot as plt\n",
        "%matplotlib inline\n",
        "\n",
        "### For Q-Q Plot\n",
        "\n",
        "import scipy.stats as stats\n",
        "\n",
        "### To ignore warnings\n",
        "\n",
        "import warnings\n",
        "warnings.filterwarnings('ignore')\n",
        "\n",
        "### Machine Learning libraries\n",
        "\n",
        "import sklearn\n",
        "from sklearn.model_selection import train_test_split, GridSearchCV\n",
        "from sklearn.preprocessing import StandardScaler\n",
        "from sklearn.svm import SVC\n",
        "from sklearn.tree import DecisionTreeClassifier\n",
        "from sklearn.ensemble import RandomForestClassifier\n",
        "from sklearn.linear_model import LogisticRegression\n",
        "from sklearn.metrics import confusion_matrix, accuracy_score, classification_report\n",
        "\n",
        "### To be able to see maximum columns on screen\n",
        "\n",
        "pd.set_option('display.max_columns', 400)\n"
      ],
      "metadata": {
        "id": "paDJ8yjr4U8s"
      },
      "execution_count": null,
      "outputs": []
    },
    {
      "cell_type": "code",
      "source": [
        "df = pd.read_csv('http://archive.ics.uci.edu/ml/machine-learning-databases/wine-quality/winequality-red.csv',sep=';')\n",
        "df.head()"
      ],
      "metadata": {
        "id": "wUXjfIl04cmZ"
      },
      "execution_count": null,
      "outputs": []
    },
    {
      "cell_type": "code",
      "source": [
        "# getting null values and datatypes of all features\n",
        "df.info()"
      ],
      "metadata": {
        "id": "o__57_9Z4g23"
      },
      "execution_count": null,
      "outputs": []
    },
    {
      "cell_type": "code",
      "source": [
        "# statistical info\n",
        "df.describe()"
      ],
      "metadata": {
        "id": "h2Mv1cjc4lsQ"
      },
      "execution_count": null,
      "outputs": []
    },
    {
      "cell_type": "code",
      "source": [
        "df.describe().T"
      ],
      "metadata": {
        "id": "IYVJig6s5zbe"
      },
      "execution_count": null,
      "outputs": []
    },
    {
      "cell_type": "code",
      "source": [
        "### getting unique values for quality feature\n",
        "df.quality.unique()"
      ],
      "metadata": {
        "id": "OzvjZOLH59NT"
      },
      "execution_count": null,
      "outputs": []
    },
    {
      "cell_type": "code",
      "source": [
        "### getting count of record for each unique value in quality\n",
        "df.quality.value_counts()"
      ],
      "metadata": {
        "id": "86ikxRB36APO"
      },
      "execution_count": null,
      "outputs": []
    },
    {
      "cell_type": "code",
      "source": [
        "### checking duplicate values\n",
        "df.duplicated().sum()\n"
      ],
      "metadata": {
        "id": "AC1GYQEX6Cy4"
      },
      "execution_count": null,
      "outputs": []
    },
    {
      "cell_type": "code",
      "source": [
        "### dropping duplicate values\n",
        "df.drop_duplicates(inplace=True)"
      ],
      "metadata": {
        "id": "ut5ZbsiL6GXB"
      },
      "execution_count": null,
      "outputs": []
    },
    {
      "cell_type": "code",
      "source": [
        "df.info()"
      ],
      "metadata": {
        "id": "AI7Ls6nu6JHy"
      },
      "execution_count": null,
      "outputs": []
    },
    {
      "cell_type": "code",
      "source": [
        "### getting null values in each feature\n",
        "df.isnull().sum()"
      ],
      "metadata": {
        "id": "dZPcv7AJ6Lr7"
      },
      "execution_count": null,
      "outputs": []
    },
    {
      "cell_type": "code",
      "source": [
        "### getting correlation between independent and dependent features\n",
        "corr=round(df.corr(),2)\n",
        "corr"
      ],
      "metadata": {
        "id": "ieAwssFG6Ofl"
      },
      "execution_count": null,
      "outputs": []
    },
    {
      "cell_type": "code",
      "source": [
        "### getting list of numerical features\n",
        "features=df.columns\n",
        "features"
      ],
      "metadata": {
        "id": "JOde9qa_6RCG"
      },
      "execution_count": null,
      "outputs": []
    },
    {
      "cell_type": "code",
      "source": [
        "### getting count of unique value in each feature\n",
        "for feature in features:\n",
        "    print(\"'{}' has '{}' number of unique features\".format(feature,df[feature].nunique()))"
      ],
      "metadata": {
        "id": "VYmr4Zxc6UGE"
      },
      "execution_count": null,
      "outputs": []
    },
    {
      "cell_type": "code",
      "source": [
        "### visualising count of quality which is discrete feature\n",
        "sns.countplot(data=df, x='quality')"
      ],
      "metadata": {
        "id": "CoE46npb6Xas"
      },
      "execution_count": null,
      "outputs": []
    },
    {
      "cell_type": "code",
      "source": [
        "sns.set(rc={'figure.figsize':(10,10)})"
      ],
      "metadata": {
        "id": "7A9qedZh6bUt"
      },
      "execution_count": null,
      "outputs": []
    },
    {
      "cell_type": "code",
      "source": [
        "sns.pairplot(df)"
      ],
      "metadata": {
        "id": "AfnRDDu66e7o"
      },
      "execution_count": null,
      "outputs": []
    },
    {
      "cell_type": "code",
      "source": [
        "### Getting list of continuous features as only discrete feature is quality\n",
        "qual=df[\"quality\"]\n",
        "continuous_features=df.drop(\"quality\",axis=1).columns"
      ],
      "metadata": {
        "id": "P6Mo4IiO6i3B"
      },
      "execution_count": null,
      "outputs": []
    },
    {
      "cell_type": "code",
      "source": [
        "continuous_features"
      ],
      "metadata": {
        "id": "labef5tO6oxR"
      },
      "execution_count": null,
      "outputs": []
    },
    {
      "cell_type": "code",
      "source": [
        "### Checking distribution of Continuous numerical features\n",
        "for feature in continuous_features:\n",
        "    plt.figure(figsize=(15,6))\n",
        "    plt.subplot(121)\n",
        "    sns.histplot(data=df, x=feature)\n",
        "    plt.title(\"{}'s distribution\".format(feature),fontweight=\"bold\", fontsize=15)\n",
        "\n",
        "    plt.subplot(122)\n",
        "    stats.probplot(df[feature], dist='norm', plot=plt)\n",
        "    plt.title(\"{}'s Q-Q Plot\".format(feature),fontweight=\"bold\", fontsize=15)\n",
        "    plt.show();"
      ],
      "metadata": {
        "id": "b4oicAw96tko"
      },
      "execution_count": null,
      "outputs": []
    },
    {
      "cell_type": "code",
      "source": [
        "### Comparing Continuous numerical features with quality feature\n",
        "palette1=sns.color_palette(\"tab10\", 6)\n",
        "plt.figure(figsize=(15,45))\n",
        "for feature in enumerate(continuous_features):\n",
        "    plt.subplot(6, 2, feature[0]+1)\n",
        "    sns.set(rc={'figure.figsize':(7,7)})\n",
        "    sns.kdeplot(data=df, x=feature[1], hue='quality', palette=palette1, fill=True)\n",
        "    plt.title(\"{} Vs quality\".format(feature[1]),fontweight=\"bold\", fontsize=15)"
      ],
      "metadata": {
        "id": "TURvAkH56x87"
      },
      "execution_count": null,
      "outputs": []
    },
    {
      "cell_type": "code",
      "source": [
        "\n",
        "### Checking outliers in numerical features\n",
        "plt.figure(figsize=(20,40))\n",
        "for feature in enumerate(continuous_features):\n",
        "    plt.subplot(6, 2, feature[0]+1)\n",
        "    sns.set(rc={'figure.figsize':(10,6)})\n",
        "    sns.boxplot(data=df, x=feature[1], color='y')\n",
        "    plt.title(\"{}\".format(feature[1]), fontweight=\"bold\", fontsize=15)"
      ],
      "metadata": {
        "id": "y8NMKHd_7h_T"
      },
      "execution_count": null,
      "outputs": []
    },
    {
      "cell_type": "code",
      "source": [
        "### getting outliers in features for each unique value in quality feature\n",
        "plt.figure(figsize=(20,40))\n",
        "for feature in enumerate(continuous_features):\n",
        " plt.subplot(6, 2, feature[0]+1)\n",
        " sns.set(rc={'figure.figsize':(10,6)})\n",
        " sns.boxplot(data=df, y=feature[1], x='quality')\n",
        " plt.title(\"{} vs quality\".format(feature[1]),fontsize=15, fontweight=\"bold\")"
      ],
      "metadata": {
        "id": "y1cPnmCO7oyG"
      },
      "execution_count": null,
      "outputs": []
    },
    {
      "cell_type": "code",
      "source": [
        "### visualising data scatter in each continuous feature with respect to quality\n",
        "plt.figure(figsize=(20,50))\n",
        "for feature in enumerate(continuous_features):\n",
        " plt.subplot(6, 2, feature[0]+1)\n",
        " sns.set(rc={'figure.figsize':(7,8)})\n",
        " sns.stripplot(data=df, y=feature[1], x='quality')\n",
        " plt.title(\"{} Vs quality\".format(feature[1]),fontsize=15, fontweight=\"bold\")"
      ],
      "metadata": {
        "id": "Lvt3wEK_77N6"
      },
      "execution_count": null,
      "outputs": []
    },
    {
      "cell_type": "code",
      "source": [
        "### plotting regplot for features vs modified quality\n",
        "plt.figure(figsize=(20,55))\n",
        "for feature in enumerate(continuous_features):\n",
        " plt.subplot(6, 2, feature[0]+1)\n",
        " sns.set(rc={'figure.figsize':(8,9)})\n",
        " sns.regplot(data=df, x=feature[1], y='quality')\n",
        " plt.xlabel(feature[1])\n",
        " plt.ylabel(\"quality\")\n",
        " plt.title(\"{} Vs quality\".format(feature[1]), fontweight='bold', fontsize=15)"
      ],
      "metadata": {
        "id": "XDWzCwP78LBH"
      },
      "execution_count": null,
      "outputs": []
    },
    {
      "cell_type": "code",
      "source": [
        "#masking the rare categories having values less than 20% as new category\n",
        "frequencies = df['quality'].value_counts(normalize=True)\n",
        "mapping=df['quality'].map(frequencies)\n",
        "df['quality']=df['quality'].mask(mapping<0.2, 9)"
      ],
      "metadata": {
        "id": "BCo6N7Bt8VJI"
      },
      "execution_count": null,
      "outputs": []
    },
    {
      "cell_type": "code",
      "source": [
        "df['quality'].value_counts()"
      ],
      "metadata": {
        "id": "NZ66H313siqP"
      },
      "execution_count": null,
      "outputs": []
    },
    {
      "cell_type": "code",
      "source": [
        "### visualising count of modified quality which is discrete feature\n",
        "sns.set(rc={'figure.figsize':(7,5)})\n",
        "sns.countplot(data=df, x='quality')"
      ],
      "metadata": {
        "id": "oh-QqDo1sm-M"
      },
      "execution_count": null,
      "outputs": []
    },
    {
      "cell_type": "code",
      "source": [
        "### Comparing Continuous numerical features with modified quality feature\n",
        "palette1=sns.color_palette(\"tab10\", 3)\n",
        "plt.figure(figsize=(15,45))\n",
        "for feature in enumerate(continuous_features):\n",
        " plt.subplot(6, 2, feature[0]+1)\n",
        " sns.set(rc={'figure.figsize':(7,7)})\n",
        " sns.kdeplot(data=df, x=feature[1], hue='quality', palette=palette1, fill=True)\n",
        " plt.title(\"{} Vs quality\".format(feature[1]),fontweight=\"bold\", fontsize=15)"
      ],
      "metadata": {
        "id": "-QBdMqVfsu0r"
      },
      "execution_count": null,
      "outputs": []
    },
    {
      "cell_type": "code",
      "source": [
        "### getting outliers in features for each unique value in modified quality feature\n",
        "plt.figure(figsize=(20,40))\n",
        "for feature in enumerate(continuous_features):\n",
        " plt.subplot(6, 2, feature[0]+1)\n",
        " sns.set(rc={'figure.figsize':(10,6)})\n",
        " sns.boxplot(data=df, y=feature[1], x='quality')\n",
        " plt.title(\"{} vs quality\".format(feature[1]),fontsize=15, fontweight=\"bold\")"
      ],
      "metadata": {
        "id": "eTT8c9UMs51A"
      },
      "execution_count": null,
      "outputs": []
    },
    {
      "cell_type": "code",
      "source": [
        "### getting correlation between independent and modified dependent features\n",
        "corr=round(df.corr(),2)\n",
        "corr"
      ],
      "metadata": {
        "id": "9s6WHGTRs9jd"
      },
      "execution_count": null,
      "outputs": []
    },
    {
      "cell_type": "code",
      "source": [
        "### Plotting heatmap for visualising the correlation between features\n",
        "sns.set(rc={'figure.figsize':(15,10)})\n",
        "sns.heatmap(data=corr, annot=True, vmin=-1, vmax=1, cmap=\"YlGnBu\")"
      ],
      "metadata": {
        "id": "IStutJTNtD4I"
      },
      "execution_count": null,
      "outputs": []
    },
    {
      "cell_type": "code",
      "source": [
        "### plotting regplot for features vs modified quality\n",
        "plt.figure(figsize=(20,40))\n",
        "for feature in enumerate(continuous_features):\n",
        " plt.subplot(6, 2, feature[0]+1)\n",
        " sns.set(rc={'figure.figsize':(8,7)})\n",
        " sns.regplot(data=df, x=feature[1], y='quality')\n",
        " plt.xlabel(feature[1])\n",
        " plt.ylabel(\"quality\")\n",
        " plt.title(\"{} Vs quality\".format(feature[1]), fontweight='bold', fontsize=15)"
      ],
      "metadata": {
        "id": "LrndpDzTtHZI"
      },
      "execution_count": null,
      "outputs": []
    },
    {
      "cell_type": "code",
      "source": [
        "### exporting dataset to csv\n",
        "df.to_csv('winedataset.csv')"
      ],
      "metadata": {
        "id": "M8rZEVK_tPdZ"
      },
      "execution_count": null,
      "outputs": []
    },
    {
      "cell_type": "code",
      "source": [
        "\n",
        "df['quality'].value_counts()\n"
      ],
      "metadata": {
        "id": "OgRctJXEtV9Z"
      },
      "execution_count": null,
      "outputs": []
    },
    {
      "cell_type": "markdown",
      "source": [
        "**Splitting data into independent and dependent**"
      ],
      "metadata": {
        "id": "PuGELo4ytf5b"
      }
    },
    {
      "cell_type": "code",
      "source": [
        "X=df.iloc[:,:-1]\n",
        "y=df.iloc[:,-1]\n",
        "X.head(3)"
      ],
      "metadata": {
        "id": "coAZAwS5tpvN"
      },
      "execution_count": null,
      "outputs": []
    },
    {
      "cell_type": "code",
      "source": [
        "y.head(3)"
      ],
      "metadata": {
        "id": "zrNXToqCtudi"
      },
      "execution_count": null,
      "outputs": []
    },
    {
      "cell_type": "code",
      "source": [
        "X_train, X_test, y_train, y_test = train_test_split( X, y, test_size=0.25, random_state=10)"
      ],
      "metadata": {
        "id": "1vzZF9oPtyhU"
      },
      "execution_count": null,
      "outputs": []
    },
    {
      "cell_type": "code",
      "source": [
        "X_train.head(3)"
      ],
      "metadata": {
        "id": "nL4EhCgHt1OZ"
      },
      "execution_count": null,
      "outputs": []
    },
    {
      "cell_type": "code",
      "source": [
        "y_train.head(3)\n"
      ],
      "metadata": {
        "id": "PCrZBsU9t4FN"
      },
      "execution_count": null,
      "outputs": []
    },
    {
      "cell_type": "code",
      "source": [
        "X_test.head(3)"
      ],
      "metadata": {
        "id": "xQJ_k6oBt6nN"
      },
      "execution_count": null,
      "outputs": []
    },
    {
      "cell_type": "markdown",
      "source": [
        "**Feature Scaling for some**"
      ],
      "metadata": {
        "id": "QQc0EL0xuCAX"
      }
    },
    {
      "cell_type": "code",
      "source": [
        "### Creating copy of test and training data for feature scaling\n",
        "X_train1=X_train\n",
        "X_train1.head(3)"
      ],
      "metadata": {
        "id": "mUgj8zYCuGZv"
      },
      "execution_count": null,
      "outputs": []
    },
    {
      "cell_type": "code",
      "source": [
        "X_test1=X_test\n",
        "X_test1.head(3)"
      ],
      "metadata": {
        "id": "btpU9Cl8uLny"
      },
      "execution_count": null,
      "outputs": []
    },
    {
      "cell_type": "code",
      "source": [
        "y_train1=y_train"
      ],
      "metadata": {
        "id": "ep_v56CFuOvU"
      },
      "execution_count": null,
      "outputs": []
    },
    {
      "cell_type": "code",
      "source": [
        "y_train1.head(3)"
      ],
      "metadata": {
        "id": "7YaMMPJBuV6i"
      },
      "execution_count": null,
      "outputs": []
    },
    {
      "cell_type": "code",
      "source": [
        "y_test1=y_test\n",
        "y_test1.head(3)"
      ],
      "metadata": {
        "id": "kphfxumruYfG"
      },
      "execution_count": null,
      "outputs": []
    },
    {
      "cell_type": "code",
      "source": [
        "scalar=StandardScaler()\n",
        "scalar\n"
      ],
      "metadata": {
        "id": "Bj8790LIua2b"
      },
      "execution_count": null,
      "outputs": []
    },
    {
      "cell_type": "code",
      "source": [
        "X_train1=scalar.fit_transform(X_train1)\n",
        "X_train1\n"
      ],
      "metadata": {
        "id": "F89gX1coueHi"
      },
      "execution_count": null,
      "outputs": []
    },
    {
      "cell_type": "code",
      "source": [
        "X_test1=scalar.transform(X_test)\n",
        "X_test1"
      ],
      "metadata": {
        "id": "WzpX-jZNug1q"
      },
      "execution_count": null,
      "outputs": []
    },
    {
      "cell_type": "markdown",
      "source": [
        "**Model and Model Training and Model prediction**"
      ],
      "metadata": {
        "id": "O5Ya2apuup7J"
      }
    },
    {
      "cell_type": "markdown",
      "source": [
        "** Decision Tree Classifier**"
      ],
      "metadata": {
        "id": "Fn7gTo7Gu3jb"
      }
    },
    {
      "cell_type": "code",
      "source": [
        "dtc=DecisionTreeClassifier()\n",
        "dtc"
      ],
      "metadata": {
        "id": "uveoHVyWu57q"
      },
      "execution_count": null,
      "outputs": []
    },
    {
      "cell_type": "code",
      "source": [
        "dtc.fit(X_train, y_train)"
      ],
      "metadata": {
        "id": "NlMoYEMZu8-w"
      },
      "execution_count": null,
      "outputs": []
    },
    {
      "cell_type": "code",
      "source": [
        "dtc_prediction=dtc.predict(X_test)\n",
        "dtc_prediction"
      ],
      "metadata": {
        "id": "LfWEVLwEu_T4"
      },
      "execution_count": null,
      "outputs": []
    },
    {
      "cell_type": "code",
      "source": [
        "\n",
        "print(classification_report(y_test,dtc_prediction ))"
      ],
      "metadata": {
        "id": "oic7gOKnvBnf"
      },
      "execution_count": null,
      "outputs": []
    },
    {
      "cell_type": "code",
      "source": [
        "### Visualising the Decision Tree\n",
        "from sklearn import tree\n",
        "import matplotlib.pyplot as plt\n",
        "fig = plt.figure(figsize=(25,20))\n",
        "clf = dtc.fit(X_train, y_train)\n",
        "tree.plot_tree(clf, filled=True)\n",
        "plt.show();"
      ],
      "metadata": {
        "id": "XCnKsmE3vFdf"
      },
      "execution_count": null,
      "outputs": []
    },
    {
      "cell_type": "markdown",
      "source": [
        "** Logistic Regression**"
      ],
      "metadata": {
        "id": "lqrheZfrvQ_G"
      }
    },
    {
      "cell_type": "code",
      "source": [
        "log_reg=LogisticRegression()\n",
        "log_reg"
      ],
      "metadata": {
        "id": "doa9iSEqvTfG"
      },
      "execution_count": null,
      "outputs": []
    },
    {
      "cell_type": "code",
      "source": [
        "log_reg.fit(X_train1, y_train1)"
      ],
      "metadata": {
        "id": "JYrzAndrvYJG"
      },
      "execution_count": null,
      "outputs": []
    },
    {
      "cell_type": "code",
      "source": [
        "log_reg_pred=log_reg.predict(X_test1)\n",
        "log_reg_pred"
      ],
      "metadata": {
        "id": "igeBQBSxvbKg"
      },
      "execution_count": null,
      "outputs": []
    },
    {
      "cell_type": "code",
      "source": [
        "print(classification_report(y_test1, log_reg_pred))"
      ],
      "metadata": {
        "id": "mSRYdu9lvg_4"
      },
      "execution_count": null,
      "outputs": []
    },
    {
      "cell_type": "markdown",
      "source": [
        "** Support Vector Classifier**"
      ],
      "metadata": {
        "id": "Ukjy-0VTvoEl"
      }
    },
    {
      "cell_type": "code",
      "source": [
        "svc=SVC()\n",
        "svc\n"
      ],
      "metadata": {
        "id": "zbTeJsHrvq9j"
      },
      "execution_count": null,
      "outputs": []
    },
    {
      "cell_type": "code",
      "source": [
        "svc.fit(X_train1, y_train1)"
      ],
      "metadata": {
        "id": "VJ2DXTw5vt9Q"
      },
      "execution_count": null,
      "outputs": []
    },
    {
      "cell_type": "code",
      "source": [
        "svc_pred=svc.predict(X_test1)\n",
        "svc_pred"
      ],
      "metadata": {
        "id": "P8Iv0clHvwj2"
      },
      "execution_count": null,
      "outputs": []
    },
    {
      "cell_type": "code",
      "source": [
        "print(classification_report(y_test1, svc_pred))"
      ],
      "metadata": {
        "id": "eHcCj4WKv0ih"
      },
      "execution_count": null,
      "outputs": []
    },
    {
      "cell_type": "markdown",
      "source": [
        "**Random Forest Classifier**"
      ],
      "metadata": {
        "id": "P1l3eZ36v9J3"
      }
    },
    {
      "cell_type": "code",
      "source": [
        "rand_for=RandomForestClassifier()\n",
        "rand_for"
      ],
      "metadata": {
        "id": "9RfY1BNov_Jf"
      },
      "execution_count": null,
      "outputs": []
    },
    {
      "cell_type": "code",
      "source": [
        "rand_for.fit(X_train, y_train)"
      ],
      "metadata": {
        "id": "JVs0912DwBvs"
      },
      "execution_count": null,
      "outputs": []
    },
    {
      "cell_type": "code",
      "source": [
        "rand_for_pred=rand_for.predict(X_test)\n",
        "rand_for_pred"
      ],
      "metadata": {
        "id": "5ud9l1abwEqB"
      },
      "execution_count": null,
      "outputs": []
    },
    {
      "cell_type": "code",
      "source": [
        "print(classification_report(y_test, rand_for_pred))"
      ],
      "metadata": {
        "id": "2e7sQXeAwIdn"
      },
      "execution_count": null,
      "outputs": []
    },
    {
      "cell_type": "markdown",
      "source": [
        "**Hyper-Parameter Tuning of Model**"
      ],
      "metadata": {
        "id": "mPL6dK2HwZF6"
      }
    },
    {
      "cell_type": "markdown",
      "source": [
        "** Hyper-Parameter Tuning Decision Tree Classifier Model**"
      ],
      "metadata": {
        "id": "wOsE3BbIwePK"
      }
    },
    {
      "cell_type": "code",
      "source": [
        "dtc=DecisionTreeClassifier()\n",
        "dtc"
      ],
      "metadata": {
        "id": "e0DCOMHRwgNo"
      },
      "execution_count": null,
      "outputs": []
    },
    {
      "cell_type": "code",
      "source": [
        "\n",
        "grid_param = {\n",
        " 'criterion': ['gini', 'entropy'],\n",
        " 'max_depth' : range(2,32,1),\n",
        " 'min_samples_leaf' : range(1,10,1),\n",
        " 'min_samples_split': range(2,10,1),\n",
        " 'splitter' : ['best', 'random']\n",
        "}\n"
      ],
      "metadata": {
        "id": "2wIN4R2Wwkbu"
      },
      "execution_count": null,
      "outputs": []
    },
    {
      "cell_type": "code",
      "source": [
        "grid=GridSearchCV(estimator=dtc,param_grid=grid_param, cv=3)"
      ],
      "metadata": {
        "id": "kMaGeJNtwnIG"
      },
      "execution_count": null,
      "outputs": []
    },
    {
      "cell_type": "code",
      "source": [
        "grid.fit(X_train, y_train)"
      ],
      "metadata": {
        "id": "SYQIcLypwwfW"
      },
      "execution_count": null,
      "outputs": []
    },
    {
      "cell_type": "code",
      "source": [
        "grid.best_params_"
      ],
      "metadata": {
        "id": "Bkb_wlMdw0AI"
      },
      "execution_count": null,
      "outputs": []
    },
    {
      "cell_type": "code",
      "source": [
        "grid.best_estimator_"
      ],
      "metadata": {
        "id": "8qgG5vZ8w5xm"
      },
      "execution_count": null,
      "outputs": []
    },
    {
      "cell_type": "code",
      "source": [
        "dtc_best_par=DecisionTreeClassifier(criterion='entropy',max_depth=17, min_samples_leaf=9, min_samples_split=3, splitter='random')\n",
        "dtc_best_par"
      ],
      "metadata": {
        "id": "xrA1iL6Ew8LT"
      },
      "execution_count": null,
      "outputs": []
    },
    {
      "cell_type": "code",
      "source": [
        "dtc_best_par.fit(X_train, y_train)"
      ],
      "metadata": {
        "id": "SotXUwEBw-u-"
      },
      "execution_count": null,
      "outputs": []
    },
    {
      "cell_type": "code",
      "source": [
        "dtc_best_par_pred=dtc_best_par.predict(X_test)\n",
        "dtc_best_par_pred"
      ],
      "metadata": {
        "id": "O8KSPRlXxBOj"
      },
      "execution_count": null,
      "outputs": []
    },
    {
      "cell_type": "code",
      "source": [
        "print(classification_report(y_test,dtc_best_par_pred ))"
      ],
      "metadata": {
        "id": "g33mC5BcxEHm"
      },
      "execution_count": null,
      "outputs": []
    },
    {
      "cell_type": "code",
      "source": [
        "fig = plt.figure(figsize=(25,20))\n",
        "clf = dtc_best_par.fit(X_train, y_train)\n",
        "tree.plot_tree(clf, filled=True, fontsize=10)\n",
        "plt.show();"
      ],
      "metadata": {
        "id": "C0pahAH1xHOR"
      },
      "execution_count": null,
      "outputs": []
    },
    {
      "cell_type": "markdown",
      "source": [
        "Hyper-Parameter Tuning Random Forest Classifier Model"
      ],
      "metadata": {
        "id": "-y9vys-HxX7T"
      }
    },
    {
      "cell_type": "code",
      "source": [
        "rand_for=RandomForestClassifier()\n",
        "rand_for"
      ],
      "metadata": {
        "id": "d8-HKi_lxZLq"
      },
      "execution_count": null,
      "outputs": []
    },
    {
      "cell_type": "code",
      "source": [
        "rand_for=RandomForestClassifier()\n",
        "rand_for\n"
      ],
      "metadata": {
        "id": "zwCQ7dOZxcaR"
      },
      "execution_count": null,
      "outputs": []
    },
    {
      "cell_type": "code",
      "source": [
        "# we are tuning three hyperparameters right now, we are passing the different values for both parameters\n",
        "grid_param = {\n",
        " \"n_estimators\" : [90,100,110],\n",
        " 'criterion': ['gini', 'entropy'],\n",
        " 'max_depth' : range(2,20,2),\n",
        " 'min_samples_leaf' : range(1,10,2),\n",
        "}\n"
      ],
      "metadata": {
        "id": "-4gh5-tsxnKf"
      },
      "execution_count": null,
      "outputs": []
    },
    {
      "cell_type": "code",
      "source": [
        "grid=GridSearchCV(estimator=rand_for,param_grid=grid_param, verbose=1, cv=2)"
      ],
      "metadata": {
        "id": "5Tyztclfxrdx"
      },
      "execution_count": null,
      "outputs": []
    },
    {
      "cell_type": "code",
      "source": [
        "grid.fit(X_train, y_train)"
      ],
      "metadata": {
        "id": "Iy71-cuUxuQl"
      },
      "execution_count": null,
      "outputs": []
    },
    {
      "cell_type": "code",
      "source": [
        "grid.best_params_"
      ],
      "metadata": {
        "id": "VoVhuN11xxSi"
      },
      "execution_count": null,
      "outputs": []
    },
    {
      "cell_type": "code",
      "source": [
        "grid.best_estimator_"
      ],
      "metadata": {
        "id": "vueVTyn8xz6n"
      },
      "execution_count": null,
      "outputs": []
    },
    {
      "cell_type": "code",
      "source": [
        "rand_for_best_par=RandomForestClassifier(criterion='entropy', max_depth=18, n_estimators=90)\n",
        "rand_for_best_par\n"
      ],
      "metadata": {
        "id": "oli2Qibyx2I-"
      },
      "execution_count": null,
      "outputs": []
    },
    {
      "cell_type": "code",
      "source": [
        "\n",
        "rand_for_best_par.fit(X_train, y_train)"
      ],
      "metadata": {
        "id": "dmbdDl_bx4Ze"
      },
      "execution_count": null,
      "outputs": []
    },
    {
      "cell_type": "code",
      "source": [
        "rand_for_best_par_pred=rand_for_best_par.predict(X_test)\n",
        "rand_for_best_par_pred"
      ],
      "metadata": {
        "id": "SzWE2bw_x68U"
      },
      "execution_count": null,
      "outputs": []
    },
    {
      "cell_type": "code",
      "source": [
        "print(classification_report(y_test,rand_for_best_par_pred ))"
      ],
      "metadata": {
        "id": "ttf2XzERx8-i"
      },
      "execution_count": null,
      "outputs": []
    },
    {
      "cell_type": "markdown",
      "source": [
        " Hyper-Parameter Tuning Logistic Regression Model"
      ],
      "metadata": {
        "id": "PoZ4uchcyC2v"
      }
    },
    {
      "cell_type": "code",
      "source": [
        "\n",
        "log_reg=LogisticRegression()\n",
        "log_reg"
      ],
      "metadata": {
        "id": "2oeCgNMvyGrP"
      },
      "execution_count": null,
      "outputs": []
    },
    {
      "cell_type": "code",
      "source": [
        "grid_param = {\n",
        " \"penalty\" : ['l1', 'l2', 'elasticnet', 'none'],\n",
        " 'C': np.logspace(-4, 4, 3),\n",
        " \"solver\": ['newton-cg', 'lbfgs', 'sag', 'saga'],\n",
        " 'max_iter' : [100, 200]\n",
        "}"
      ],
      "metadata": {
        "id": "dkSls2h9yLXW"
      },
      "execution_count": null,
      "outputs": []
    },
    {
      "cell_type": "code",
      "source": [
        "grid=GridSearchCV(estimator=log_reg,param_grid=grid_param, verbose=1, cv=2)"
      ],
      "metadata": {
        "id": "xqFvF-TuyNiV"
      },
      "execution_count": null,
      "outputs": []
    },
    {
      "cell_type": "code",
      "source": [
        "grid.fit(X_train1, y_train1)\n"
      ],
      "metadata": {
        "id": "HKw2wvg3yPf6"
      },
      "execution_count": null,
      "outputs": []
    },
    {
      "cell_type": "code",
      "source": [
        "\n",
        "grid.best_params_"
      ],
      "metadata": {
        "id": "M5r4mEFDyR8F"
      },
      "execution_count": null,
      "outputs": []
    },
    {
      "cell_type": "code",
      "source": [
        "grid.best_estimator_\n"
      ],
      "metadata": {
        "id": "nroDqvSNyU2X"
      },
      "execution_count": null,
      "outputs": []
    },
    {
      "cell_type": "code",
      "source": [
        "log_reg_best_par=LogisticRegression(max_iter=200, penalty='l1', solver='saga')\n",
        "log_reg_best_par"
      ],
      "metadata": {
        "id": "T-GFkprOyX28"
      },
      "execution_count": null,
      "outputs": []
    },
    {
      "cell_type": "code",
      "source": [
        "log_reg_best_par.fit(X_train1, y_train1)"
      ],
      "metadata": {
        "id": "Mvrt_ddTybQ5"
      },
      "execution_count": null,
      "outputs": []
    },
    {
      "cell_type": "code",
      "source": [
        "log_reg_best_par_pred=log_reg_best_par.predict(X_test1)\n",
        "log_reg_best_par_pred\n"
      ],
      "metadata": {
        "id": "WnMGywuxydn1"
      },
      "execution_count": null,
      "outputs": []
    },
    {
      "cell_type": "code",
      "source": [
        "print(classification_report(y_test1,log_reg_best_par_pred))"
      ],
      "metadata": {
        "id": "9_71JclMygN-"
      },
      "execution_count": null,
      "outputs": []
    },
    {
      "cell_type": "markdown",
      "source": [
        "Hyper-Parameter Tuning Support Vector Classifier Model"
      ],
      "metadata": {
        "id": "qcztc-ujyqxP"
      }
    },
    {
      "cell_type": "code",
      "source": [
        "svc=SVC()\n",
        "svc"
      ],
      "metadata": {
        "id": "EyZYmeYyyrUb"
      },
      "execution_count": null,
      "outputs": []
    },
    {
      "cell_type": "code",
      "source": [
        "grid_param={'C': [10, 100, 200, 500],\n",
        " 'degree': [2, 3, 4, 5],\n",
        " 'kernel': [ 'rbf', 'poly', 'sigmoid']\n",
        " }"
      ],
      "metadata": {
        "id": "ATw8MiHbytcN"
      },
      "execution_count": null,
      "outputs": []
    },
    {
      "cell_type": "code",
      "source": [
        "grid=GridSearchCV(estimator=svc,param_grid=grid_param, verbose=1, cv=2)"
      ],
      "metadata": {
        "id": "tk_krVwnyv4x"
      },
      "execution_count": null,
      "outputs": []
    },
    {
      "cell_type": "code",
      "source": [
        "grid.fit(X_train1, y_train1)"
      ],
      "metadata": {
        "id": "j8QpD6iIyycF"
      },
      "execution_count": null,
      "outputs": []
    },
    {
      "cell_type": "code",
      "source": [
        "grid.best_params_"
      ],
      "metadata": {
        "id": "sZw1I41Vy0x5"
      },
      "execution_count": null,
      "outputs": []
    },
    {
      "cell_type": "code",
      "source": [
        "grid.best_estimator_"
      ],
      "metadata": {
        "id": "o_ri7tmRy3_v"
      },
      "execution_count": null,
      "outputs": []
    },
    {
      "cell_type": "code",
      "source": [
        "svc_best_par=SVC(C=10, kernel='poly')\n",
        "svc_best_par"
      ],
      "metadata": {
        "id": "f6UkWHNky8DN"
      },
      "execution_count": null,
      "outputs": []
    },
    {
      "cell_type": "code",
      "source": [
        "svc_best_par.fit(X_train1, y_train1)"
      ],
      "metadata": {
        "id": "fEBZMsSNy-bu"
      },
      "execution_count": null,
      "outputs": []
    },
    {
      "cell_type": "code",
      "source": [
        "svc_best_par_pred=svc_best_par.predict(X_test1)\n",
        "svc_best_par_pred"
      ],
      "metadata": {
        "id": "S7w9ZHOozBTN"
      },
      "execution_count": null,
      "outputs": []
    },
    {
      "cell_type": "code",
      "source": [
        "\n",
        "print(classification_report(y_test1,svc_best_par_pred ))"
      ],
      "metadata": {
        "id": "s4H6vY2TzD16"
      },
      "execution_count": null,
      "outputs": []
    },
    {
      "cell_type": "code",
      "source": [],
      "metadata": {
        "id": "X7bIixf6zGyI"
      },
      "execution_count": null,
      "outputs": []
    }
  ]
}